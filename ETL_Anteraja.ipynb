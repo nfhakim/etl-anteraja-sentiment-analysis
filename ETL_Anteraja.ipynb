{
  "nbformat": 4,
  "nbformat_minor": 0,
  "metadata": {
    "colab": {
      "name": "ETL-Anteraja",
      "provenance": [],
      "collapsed_sections": [
        "skhO_ImOGKcH"
      ]
    },
    "kernelspec": {
      "display_name": "Python 3",
      "name": "python3"
    },
    "language_info": {
      "name": "python"
    }
  },
  "cells": [
    {
      "cell_type": "markdown",
      "metadata": {
        "id": "aI3IZj3y3a2H"
      },
      "source": [
        "# **Pre-ETL**"
      ]
    },
    {
      "cell_type": "markdown",
      "metadata": {
        "id": "u0JIzIQxkRtD"
      },
      "source": [
        "### **Library Installation**"
      ]
    },
    {
      "cell_type": "code",
      "metadata": {
        "colab": {
          "base_uri": "https://localhost:8080/"
        },
        "id": "S9h11hYS69fc",
        "outputId": "d2303506-91ed-49dc-e597-a79debf337df"
      },
      "source": [
        "!pip install pyspark"
      ],
      "execution_count": 1,
      "outputs": [
        {
          "output_type": "stream",
          "name": "stdout",
          "text": [
            "Requirement already satisfied: pyspark in /usr/local/lib/python3.7/dist-packages (3.2.0)\n",
            "Requirement already satisfied: py4j==0.10.9.2 in /usr/local/lib/python3.7/dist-packages (from pyspark) (0.10.9.2)\n"
          ]
        }
      ]
    },
    {
      "cell_type": "code",
      "metadata": {
        "colab": {
          "base_uri": "https://localhost:8080/"
        },
        "id": "a8GLdQVY5mZ9",
        "outputId": "8dfd9c99-7416-4dc9-df01-e2bd4cac1184"
      },
      "source": [
        "!pip install google-play-scraper"
      ],
      "execution_count": 2,
      "outputs": [
        {
          "output_type": "stream",
          "name": "stdout",
          "text": [
            "Collecting google-play-scraper\n",
            "  Downloading google-play-scraper-1.0.2.tar.gz (52 kB)\n",
            "\u001b[?25l\r\u001b[K     |██████▏                         | 10 kB 20.7 MB/s eta 0:00:01\r\u001b[K     |████████████▍                   | 20 kB 23.8 MB/s eta 0:00:01\r\u001b[K     |██████████████████▋             | 30 kB 16.6 MB/s eta 0:00:01\r\u001b[K     |████████████████████████▉       | 40 kB 11.4 MB/s eta 0:00:01\r\u001b[K     |███████████████████████████████ | 51 kB 5.7 MB/s eta 0:00:01\r\u001b[K     |████████████████████████████████| 52 kB 1.1 MB/s \n",
            "\u001b[?25hBuilding wheels for collected packages: google-play-scraper\n",
            "  Building wheel for google-play-scraper (setup.py) ... \u001b[?25l\u001b[?25hdone\n",
            "  Created wheel for google-play-scraper: filename=google_play_scraper-1.0.2-py3-none-any.whl size=24393 sha256=6844671ae06418f31202df102ac412723b741f55212bd2ff6cace23c2129db84\n",
            "  Stored in directory: /root/.cache/pip/wheels/98/99/eb/bbb9d24a5c526980647efc10336eaaeffcf07749f581111128\n",
            "Successfully built google-play-scraper\n",
            "Installing collected packages: google-play-scraper\n",
            "Successfully installed google-play-scraper-1.0.2\n"
          ]
        }
      ]
    },
    {
      "cell_type": "code",
      "metadata": {
        "colab": {
          "base_uri": "https://localhost:8080/"
        },
        "id": "2mmgAVFCGCPT",
        "outputId": "c039600d-5c68-40a8-9a49-b1da6fddbdf3"
      },
      "source": [
        "!pip install deep-translator"
      ],
      "execution_count": 4,
      "outputs": [
        {
          "output_type": "stream",
          "name": "stdout",
          "text": [
            "Requirement already satisfied: deep-translator in /usr/local/lib/python3.7/dist-packages (1.5.5)\n",
            "Requirement already satisfied: requests<3.0.0,>=2.23.0 in /usr/local/lib/python3.7/dist-packages (from deep-translator) (2.23.0)\n",
            "Requirement already satisfied: click<9.0.0,>=8.0.1 in /usr/local/lib/python3.7/dist-packages (from deep-translator) (8.0.3)\n",
            "Requirement already satisfied: beautifulsoup4<5.0.0,>=4.9.1 in /usr/local/lib/python3.7/dist-packages (from deep-translator) (4.10.0)\n",
            "Requirement already satisfied: soupsieve>1.2 in /usr/local/lib/python3.7/dist-packages (from beautifulsoup4<5.0.0,>=4.9.1->deep-translator) (2.3.1)\n",
            "Requirement already satisfied: importlib-metadata in /usr/local/lib/python3.7/dist-packages (from click<9.0.0,>=8.0.1->deep-translator) (4.8.2)\n",
            "Requirement already satisfied: chardet<4,>=3.0.2 in /usr/local/lib/python3.7/dist-packages (from requests<3.0.0,>=2.23.0->deep-translator) (3.0.4)\n",
            "Requirement already satisfied: idna<3,>=2.5 in /usr/local/lib/python3.7/dist-packages (from requests<3.0.0,>=2.23.0->deep-translator) (2.10)\n",
            "Requirement already satisfied: certifi>=2017.4.17 in /usr/local/lib/python3.7/dist-packages (from requests<3.0.0,>=2.23.0->deep-translator) (2021.10.8)\n",
            "Requirement already satisfied: urllib3!=1.25.0,!=1.25.1,<1.26,>=1.21.1 in /usr/local/lib/python3.7/dist-packages (from requests<3.0.0,>=2.23.0->deep-translator) (1.24.3)\n",
            "Requirement already satisfied: zipp>=0.5 in /usr/local/lib/python3.7/dist-packages (from importlib-metadata->click<9.0.0,>=8.0.1->deep-translator) (3.6.0)\n",
            "Requirement already satisfied: typing-extensions>=3.6.4 in /usr/local/lib/python3.7/dist-packages (from importlib-metadata->click<9.0.0,>=8.0.1->deep-translator) (3.10.0.2)\n"
          ]
        }
      ]
    },
    {
      "cell_type": "code",
      "metadata": {
        "colab": {
          "base_uri": "https://localhost:8080/"
        },
        "id": "xzhKjGKQ5tAY",
        "outputId": "54170c0a-7ebc-459f-c4fb-35fd0a066cdd"
      },
      "source": [
        "!pip install tweet-preprocessor"
      ],
      "execution_count": 5,
      "outputs": [
        {
          "output_type": "stream",
          "name": "stdout",
          "text": [
            "Collecting tweet-preprocessor\n",
            "  Downloading tweet_preprocessor-0.6.0-py3-none-any.whl (27 kB)\n",
            "Installing collected packages: tweet-preprocessor\n",
            "Successfully installed tweet-preprocessor-0.6.0\n"
          ]
        }
      ]
    },
    {
      "cell_type": "code",
      "metadata": {
        "colab": {
          "base_uri": "https://localhost:8080/"
        },
        "id": "5aX8sIwQpB5i",
        "outputId": "6ec9851c-936d-4ec9-c409-7a0b28817dd2"
      },
      "source": [
        "!pip install emoji"
      ],
      "execution_count": 6,
      "outputs": [
        {
          "output_type": "stream",
          "name": "stdout",
          "text": [
            "Collecting emoji\n",
            "  Downloading emoji-1.6.1.tar.gz (170 kB)\n",
            "\u001b[?25l\r\u001b[K     |██                              | 10 kB 17.2 MB/s eta 0:00:01\r\u001b[K     |███▉                            | 20 kB 17.4 MB/s eta 0:00:01\r\u001b[K     |█████▉                          | 30 kB 11.0 MB/s eta 0:00:01\r\u001b[K     |███████▊                        | 40 kB 9.8 MB/s eta 0:00:01\r\u001b[K     |█████████▋                      | 51 kB 4.7 MB/s eta 0:00:01\r\u001b[K     |███████████▋                    | 61 kB 5.5 MB/s eta 0:00:01\r\u001b[K     |█████████████▌                  | 71 kB 5.7 MB/s eta 0:00:01\r\u001b[K     |███████████████▍                | 81 kB 6.4 MB/s eta 0:00:01\r\u001b[K     |█████████████████▍              | 92 kB 4.8 MB/s eta 0:00:01\r\u001b[K     |███████████████████▎            | 102 kB 5.0 MB/s eta 0:00:01\r\u001b[K     |█████████████████████▏          | 112 kB 5.0 MB/s eta 0:00:01\r\u001b[K     |███████████████████████▏        | 122 kB 5.0 MB/s eta 0:00:01\r\u001b[K     |█████████████████████████       | 133 kB 5.0 MB/s eta 0:00:01\r\u001b[K     |███████████████████████████     | 143 kB 5.0 MB/s eta 0:00:01\r\u001b[K     |█████████████████████████████   | 153 kB 5.0 MB/s eta 0:00:01\r\u001b[K     |██████████████████████████████▉ | 163 kB 5.0 MB/s eta 0:00:01\r\u001b[K     |████████████████████████████████| 170 kB 5.0 MB/s \n",
            "\u001b[?25hBuilding wheels for collected packages: emoji\n",
            "  Building wheel for emoji (setup.py) ... \u001b[?25l\u001b[?25hdone\n",
            "  Created wheel for emoji: filename=emoji-1.6.1-py3-none-any.whl size=169314 sha256=17dc402a26ffd65dd5bd7a330ff48b58729edb491d37771569c351facc089c95\n",
            "  Stored in directory: /root/.cache/pip/wheels/ea/5f/d3/03d313ddb3c2a1a427bb4690f1621eea60fe6f2a30cc95940f\n",
            "Successfully built emoji\n",
            "Installing collected packages: emoji\n",
            "Successfully installed emoji-1.6.1\n"
          ]
        }
      ]
    },
    {
      "cell_type": "code",
      "metadata": {
        "colab": {
          "base_uri": "https://localhost:8080/"
        },
        "id": "oFVAzkuRADgm",
        "outputId": "bf12867e-f37c-4586-d514-539b9f18ac55"
      },
      "source": [
        "!pip install azure-storage-blob==2.1.0"
      ],
      "execution_count": 3,
      "outputs": [
        {
          "output_type": "stream",
          "name": "stdout",
          "text": [
            "Collecting azure-storage-blob==2.1.0\n",
            "  Downloading azure_storage_blob-2.1.0-py2.py3-none-any.whl (88 kB)\n",
            "\u001b[?25l\r\u001b[K     |███▊                            | 10 kB 20.6 MB/s eta 0:00:01\r\u001b[K     |███████▍                        | 20 kB 16.3 MB/s eta 0:00:01\r\u001b[K     |███████████▏                    | 30 kB 12.2 MB/s eta 0:00:01\r\u001b[K     |██████████████▉                 | 40 kB 9.9 MB/s eta 0:00:01\r\u001b[K     |██████████████████▋             | 51 kB 5.1 MB/s eta 0:00:01\r\u001b[K     |██████████████████████▎         | 61 kB 5.7 MB/s eta 0:00:01\r\u001b[K     |██████████████████████████      | 71 kB 5.7 MB/s eta 0:00:01\r\u001b[K     |█████████████████████████████▊  | 81 kB 6.4 MB/s eta 0:00:01\r\u001b[K     |████████████████████████████████| 88 kB 3.1 MB/s \n",
            "\u001b[?25hCollecting azure-storage-common~=2.1\n",
            "  Downloading azure_storage_common-2.1.0-py2.py3-none-any.whl (47 kB)\n",
            "\u001b[?25l\r\u001b[K     |██████▉                         | 10 kB 26.9 MB/s eta 0:00:01\r\u001b[K     |█████████████▊                  | 20 kB 33.6 MB/s eta 0:00:01\r\u001b[K     |████████████████████▋           | 30 kB 38.5 MB/s eta 0:00:01\r\u001b[K     |███████████████████████████▍    | 40 kB 43.0 MB/s eta 0:00:01\r\u001b[K     |████████████████████████████████| 47 kB 4.2 MB/s \n",
            "\u001b[?25hCollecting azure-common>=1.1.5\n",
            "  Downloading azure_common-1.1.27-py2.py3-none-any.whl (12 kB)\n",
            "Collecting cryptography\n",
            "  Downloading cryptography-36.0.0-cp36-abi3-manylinux_2_24_x86_64.whl (3.6 MB)\n",
            "\u001b[K     |████████████████████████████████| 3.6 MB 47.5 MB/s \n",
            "\u001b[?25hRequirement already satisfied: python-dateutil in /usr/local/lib/python3.7/dist-packages (from azure-storage-common~=2.1->azure-storage-blob==2.1.0) (2.8.2)\n",
            "Requirement already satisfied: requests in /usr/local/lib/python3.7/dist-packages (from azure-storage-common~=2.1->azure-storage-blob==2.1.0) (2.23.0)\n",
            "Requirement already satisfied: cffi>=1.12 in /usr/local/lib/python3.7/dist-packages (from cryptography->azure-storage-common~=2.1->azure-storage-blob==2.1.0) (1.15.0)\n",
            "Requirement already satisfied: pycparser in /usr/local/lib/python3.7/dist-packages (from cffi>=1.12->cryptography->azure-storage-common~=2.1->azure-storage-blob==2.1.0) (2.21)\n",
            "Requirement already satisfied: six>=1.5 in /usr/local/lib/python3.7/dist-packages (from python-dateutil->azure-storage-common~=2.1->azure-storage-blob==2.1.0) (1.15.0)\n",
            "Requirement already satisfied: chardet<4,>=3.0.2 in /usr/local/lib/python3.7/dist-packages (from requests->azure-storage-common~=2.1->azure-storage-blob==2.1.0) (3.0.4)\n",
            "Requirement already satisfied: certifi>=2017.4.17 in /usr/local/lib/python3.7/dist-packages (from requests->azure-storage-common~=2.1->azure-storage-blob==2.1.0) (2021.10.8)\n",
            "Requirement already satisfied: idna<3,>=2.5 in /usr/local/lib/python3.7/dist-packages (from requests->azure-storage-common~=2.1->azure-storage-blob==2.1.0) (2.10)\n",
            "Requirement already satisfied: urllib3!=1.25.0,!=1.25.1,<1.26,>=1.21.1 in /usr/local/lib/python3.7/dist-packages (from requests->azure-storage-common~=2.1->azure-storage-blob==2.1.0) (1.24.3)\n",
            "Installing collected packages: cryptography, azure-common, azure-storage-common, azure-storage-blob\n",
            "Successfully installed azure-common-1.1.27 azure-storage-blob-2.1.0 azure-storage-common-2.1.0 cryptography-36.0.0\n"
          ]
        }
      ]
    },
    {
      "cell_type": "markdown",
      "metadata": {
        "id": "90zAyWjykY40"
      },
      "source": [
        "### **Importing Libraries**"
      ]
    },
    {
      "cell_type": "code",
      "metadata": {
        "id": "7GfFqJ2rb-Cn"
      },
      "source": [
        "# PySpark\n",
        "from pyspark.sql import SparkSession\n",
        "from pyspark.sql.types import StringType, IntegerType, StructType, StructField, TimestampType, FloatType\n",
        "from pyspark.sql.functions import udf, col\n",
        "\n",
        "# Scraping Libraries\n",
        "import tweepy as tw\n",
        "from google_play_scraper import app, Sort, reviews_all\n",
        "\n",
        "# Text Processing Libraries\n",
        "from deep_translator import GoogleTranslator\n",
        "from textblob import TextBlob\n",
        "from nltk.corpus import stopwords\n",
        "import re\n",
        "import nltk\n",
        "import preprocessor as p\n",
        "import emoji\n",
        "\n",
        "# Load Libraries with Azure Storage Blob\n",
        "from azure.storage.blob import (\n",
        "    BlockBlobService\n",
        ")\n",
        "import io\n",
        "\n",
        "import pandas as pd\n",
        "import numpy as np\n",
        "import seaborn as sns\n",
        "import matplotlib.pyplot as plt"
      ],
      "execution_count": 9,
      "outputs": []
    },
    {
      "cell_type": "markdown",
      "metadata": {
        "id": "skhO_ImOGKcH"
      },
      "source": [
        "### **API Key**"
      ]
    },
    {
      "cell_type": "code",
      "metadata": {
        "id": "hnJ6kHQAAVFu"
      },
      "source": [
        "#Insert API Key File\n",
        "APIKey = pd.read_csv('APIKey.csv')"
      ],
      "execution_count": 10,
      "outputs": []
    },
    {
      "cell_type": "markdown",
      "metadata": {
        "id": "6pEdyiN1BPsl"
      },
      "source": [
        "Twitter Key"
      ]
    },
    {
      "cell_type": "code",
      "metadata": {
        "id": "ya9dqFJzGFnN"
      },
      "source": [
        "# API key, API secret, access token, access token secret\n",
        "API_KEY = APIKey['TwitterKey'][0]\n",
        "API_SECRET = APIKey['TwitterSecret'][0]\n",
        "ACCESS_TOKEN = APIKey['TwitterToken'][0]\n",
        "ACCESS_TOKEN_SECRET = APIKey['TwitterTokenSecret'][0]\n",
        "\n",
        "# Authentification\n",
        "auth = tw.OAuthHandler(API_KEY, API_SECRET)\n",
        "auth.set_access_token(ACCESS_TOKEN, ACCESS_TOKEN_SECRET)\n",
        "\n",
        "# API\n",
        "api = tw.API(auth, wait_on_rate_limit=True)"
      ],
      "execution_count": 13,
      "outputs": []
    },
    {
      "cell_type": "markdown",
      "metadata": {
        "id": "NFe_HcK9Bl3i"
      },
      "source": [
        "Azure Storage"
      ]
    },
    {
      "cell_type": "code",
      "metadata": {
        "id": "MOuoRmdKBlcU"
      },
      "source": [
        "accountName = APIKey['AzureName'][0]\n",
        "accountKey = APIKey['AzurekKey'][0]\n",
        "containerName = APIKey['AzureContainer'][0]"
      ],
      "execution_count": 15,
      "outputs": []
    },
    {
      "cell_type": "markdown",
      "metadata": {
        "id": "vHSBFR_j3vkE"
      },
      "source": [
        "### **Creating Spark Session**"
      ]
    },
    {
      "cell_type": "code",
      "metadata": {
        "id": "1AGp6_A33n57"
      },
      "source": [
        "spark = SparkSession.builder.appName(\"AnterajaRevs\").getOrCreate()"
      ],
      "execution_count": 16,
      "outputs": []
    },
    {
      "cell_type": "markdown",
      "metadata": {
        "id": "nGKy4mO03pTE"
      },
      "source": [
        "### **Some Configurations**"
      ]
    },
    {
      "cell_type": "code",
      "metadata": {
        "colab": {
          "base_uri": "https://localhost:8080/"
        },
        "id": "veaT-C3c3rgo",
        "outputId": "b7708500-78da-4954-f765-8ec12900f02f"
      },
      "source": [
        "p.set_options(p.OPT.MENTION, p.OPT.EMOJI, p.OPT.HASHTAG, p.OPT.RESERVED, p.OPT.SMILEY, p.OPT.URL)\n",
        "nltk.download('words')\n",
        "words = set(nltk.corpus.words.words())"
      ],
      "execution_count": 17,
      "outputs": [
        {
          "output_type": "stream",
          "name": "stdout",
          "text": [
            "[nltk_data] Downloading package words to /root/nltk_data...\n",
            "[nltk_data]   Unzipping corpora/words.zip.\n"
          ]
        }
      ]
    },
    {
      "cell_type": "markdown",
      "metadata": {
        "id": "dMSKOKzhkdvE"
      },
      "source": [
        "# **Extract**"
      ]
    },
    {
      "cell_type": "markdown",
      "metadata": {
        "id": "nR7dr7mIkfAl"
      },
      "source": [
        "### **A. Scraping Twitter Data**"
      ]
    },
    {
      "cell_type": "code",
      "metadata": {
        "id": "ijlpczenEnwO"
      },
      "source": [
        "# Define the search term and the date_since date as variables\n",
        "search_words = \"anteraja -from:anteraja_id lang:id\"\n",
        "date_year = \"2021\"\n",
        "date_month = \"10\"\n",
        "date_days = range(10, 18)\n",
        "date_time = \"2315\"\n",
        "screen_name = []\n",
        "text = []\n",
        "created_at = []\n",
        "\n",
        "for date_day in date_days:\n",
        "  date_since = date_year + date_month + str(date_day) + date_time \n",
        "  date_until = date_year + date_month + str(date_day+1) + date_time\n",
        "\n",
        "  tweets = tw.Cursor(api.search_full_archive,\n",
        "                    environment_name=\"TwitterResearch\",\n",
        "                    query=search_words,\n",
        "                    fromDate=date_since,\n",
        "                    toDate=date_until).items(100)\n",
        "  \n",
        "  for tweet in tweets:\n",
        "    screen_name.append(tweet.user.screen_name)\n",
        "    text.append(tweet.text)\n",
        "    created_at.append(tweet.created_at)"
      ],
      "execution_count": 18,
      "outputs": []
    },
    {
      "cell_type": "code",
      "metadata": {
        "id": "3ammJPQvE0e1"
      },
      "source": [
        "tweet_data = pd.DataFrame(\n",
        "    {'username': screen_name,\n",
        "     'date': created_at,\n",
        "     'tweet': text\n",
        "    })"
      ],
      "execution_count": 19,
      "outputs": []
    },
    {
      "cell_type": "code",
      "metadata": {
        "colab": {
          "base_uri": "https://localhost:8080/",
          "height": 423
        },
        "id": "YdPyPhFhE2F2",
        "outputId": "9a572a6c-1c12-4817-bfac-cf84a2c6aae7"
      },
      "source": [
        "tweet_data"
      ],
      "execution_count": 20,
      "outputs": [
        {
          "output_type": "execute_result",
          "data": {
            "text/html": [
              "<div>\n",
              "<style scoped>\n",
              "    .dataframe tbody tr th:only-of-type {\n",
              "        vertical-align: middle;\n",
              "    }\n",
              "\n",
              "    .dataframe tbody tr th {\n",
              "        vertical-align: top;\n",
              "    }\n",
              "\n",
              "    .dataframe thead th {\n",
              "        text-align: right;\n",
              "    }\n",
              "</style>\n",
              "<table border=\"1\" class=\"dataframe\">\n",
              "  <thead>\n",
              "    <tr style=\"text-align: right;\">\n",
              "      <th></th>\n",
              "      <th>username</th>\n",
              "      <th>date</th>\n",
              "      <th>tweet</th>\n",
              "    </tr>\n",
              "  </thead>\n",
              "  <tbody>\n",
              "    <tr>\n",
              "      <th>0</th>\n",
              "      <td>GrabID</td>\n",
              "      <td>2021-10-11 23:09:02</td>\n",
              "      <td>@ezizyaa Kalau itu tergantung kebijakan dari A...</td>\n",
              "    </tr>\n",
              "    <tr>\n",
              "      <th>1</th>\n",
              "      <td>GrabID</td>\n",
              "      <td>2021-10-11 22:59:46</td>\n",
              "      <td>@ezizyaa Hai Kak :) buat pengiriman antar kota...</td>\n",
              "    </tr>\n",
              "    <tr>\n",
              "      <th>2</th>\n",
              "      <td>marsupilapila</td>\n",
              "      <td>2021-10-11 21:36:13</td>\n",
              "      <td>@anteraja_id mau tanya paket dengan nomor resi...</td>\n",
              "    </tr>\n",
              "    <tr>\n",
              "      <th>3</th>\n",
              "      <td>aLpyPutraa</td>\n",
              "      <td>2021-10-11 21:19:56</td>\n",
              "      <td>RT @amiranh_: Halo @anteraja_id saya pesan ops...</td>\n",
              "    </tr>\n",
              "    <tr>\n",
              "      <th>4</th>\n",
              "      <td>Naanganang</td>\n",
              "      <td>2021-10-11 21:13:43</td>\n",
              "      <td>@anteraja_id min ini kenapa dari minggu udah a...</td>\n",
              "    </tr>\n",
              "    <tr>\n",
              "      <th>...</th>\n",
              "      <td>...</td>\n",
              "      <td>...</td>\n",
              "      <td>...</td>\n",
              "    </tr>\n",
              "    <tr>\n",
              "      <th>795</th>\n",
              "      <td>IndraNubia</td>\n",
              "      <td>2021-10-18 10:53:30</td>\n",
              "      <td>@anteraja_id @MediaKonsumenID Ini foto saya da...</td>\n",
              "    </tr>\n",
              "    <tr>\n",
              "      <th>796</th>\n",
              "      <td>IndraNubia</td>\n",
              "      <td>2021-10-18 10:53:01</td>\n",
              "      <td>@anteraja_id @MediaKonsumenID Kalian bisa liat...</td>\n",
              "    </tr>\n",
              "    <tr>\n",
              "      <th>797</th>\n",
              "      <td>Irfan22031</td>\n",
              "      <td>2021-10-18 10:51:00</td>\n",
              "      <td>@anteraja_id Sudah seminggu ga dikirim kerumah2..</td>\n",
              "    </tr>\n",
              "    <tr>\n",
              "      <th>798</th>\n",
              "      <td>iEkaJahe</td>\n",
              "      <td>2021-10-18 10:50:44</td>\n",
              "      <td>@anteraja_id paket sy mpe slr nyangkut trus di...</td>\n",
              "    </tr>\n",
              "    <tr>\n",
              "      <th>799</th>\n",
              "      <td>ro2anisa</td>\n",
              "      <td>2021-10-18 10:49:21</td>\n",
              "      <td>@anteraja_id Makasih @anteraja_id kirimanku sa...</td>\n",
              "    </tr>\n",
              "  </tbody>\n",
              "</table>\n",
              "<p>800 rows × 3 columns</p>\n",
              "</div>"
            ],
            "text/plain": [
              "          username  ...                                              tweet\n",
              "0           GrabID  ...  @ezizyaa Kalau itu tergantung kebijakan dari A...\n",
              "1           GrabID  ...  @ezizyaa Hai Kak :) buat pengiriman antar kota...\n",
              "2    marsupilapila  ...  @anteraja_id mau tanya paket dengan nomor resi...\n",
              "3       aLpyPutraa  ...  RT @amiranh_: Halo @anteraja_id saya pesan ops...\n",
              "4       Naanganang  ...  @anteraja_id min ini kenapa dari minggu udah a...\n",
              "..             ...  ...                                                ...\n",
              "795     IndraNubia  ...  @anteraja_id @MediaKonsumenID Ini foto saya da...\n",
              "796     IndraNubia  ...  @anteraja_id @MediaKonsumenID Kalian bisa liat...\n",
              "797     Irfan22031  ...  @anteraja_id Sudah seminggu ga dikirim kerumah2..\n",
              "798       iEkaJahe  ...  @anteraja_id paket sy mpe slr nyangkut trus di...\n",
              "799       ro2anisa  ...  @anteraja_id Makasih @anteraja_id kirimanku sa...\n",
              "\n",
              "[800 rows x 3 columns]"
            ]
          },
          "metadata": {},
          "execution_count": 20
        }
      ]
    },
    {
      "cell_type": "code",
      "metadata": {
        "id": "lJXV1LhXJe6L"
      },
      "source": [
        "# Defining Spark schema\n",
        "schema_twt = 'username STRING, date TIMESTAMP, tweet STRING'"
      ],
      "execution_count": 21,
      "outputs": []
    },
    {
      "cell_type": "code",
      "metadata": {
        "id": "bGtaWRq_KTnp"
      },
      "source": [
        "# Converting data type of 'date' column from string to datetime\n",
        "tweet_data['date'] = pd.to_datetime(tweet_data['date'])"
      ],
      "execution_count": 22,
      "outputs": []
    },
    {
      "cell_type": "code",
      "metadata": {
        "id": "AihcVj-Dd6ah"
      },
      "source": [
        "# Creating Spark dataframe using defined schema\n",
        "df_Twitter = spark.createDataFrame(tweet_data[['username', 'date', 'tweet']], schema_twt) "
      ],
      "execution_count": 23,
      "outputs": []
    },
    {
      "cell_type": "code",
      "metadata": {
        "colab": {
          "base_uri": "https://localhost:8080/"
        },
        "id": "f1PEagkEDHy-",
        "outputId": "2e29cd34-9bcc-4514-d521-8dc0d25c87c7"
      },
      "source": [
        "df_Twitter.printSchema()"
      ],
      "execution_count": 24,
      "outputs": [
        {
          "output_type": "stream",
          "name": "stdout",
          "text": [
            "root\n",
            " |-- username: string (nullable = true)\n",
            " |-- date: timestamp (nullable = true)\n",
            " |-- tweet: string (nullable = true)\n",
            "\n"
          ]
        }
      ]
    },
    {
      "cell_type": "code",
      "metadata": {
        "colab": {
          "base_uri": "https://localhost:8080/"
        },
        "id": "1cJVvEP9I0p8",
        "outputId": "1880e390-a483-4325-bdae-34e1aed1ca0c"
      },
      "source": [
        "df_Twitter.show(n=2)"
      ],
      "execution_count": 25,
      "outputs": [
        {
          "output_type": "stream",
          "name": "stdout",
          "text": [
            "+--------+-------------------+--------------------+\n",
            "|username|               date|               tweet|\n",
            "+--------+-------------------+--------------------+\n",
            "|  GrabID|2021-10-11 23:09:02|@ezizyaa Kalau it...|\n",
            "|  GrabID|2021-10-11 22:59:46|@ezizyaa Hai Kak ...|\n",
            "+--------+-------------------+--------------------+\n",
            "only showing top 2 rows\n",
            "\n"
          ]
        }
      ]
    },
    {
      "cell_type": "markdown",
      "metadata": {
        "id": "7p3aGraFkpRs"
      },
      "source": [
        "### **B. Scraping Google Play Store Review**"
      ]
    },
    {
      "cell_type": "code",
      "metadata": {
        "id": "OcmO8npZ1Uqh"
      },
      "source": [
        "id_reviews = reviews_all(\n",
        "                        'id.anteraja.aca',\n",
        "                        sleep_milliseconds=0, # defaults to 0\n",
        "                        lang='en', # defaults to 'en'\n",
        "                        country='id', # defaults to 'us'\n",
        "                        sort=Sort.NEWEST, # defaults to Sort.MOST_RELEVANT\n",
        "                        )"
      ],
      "execution_count": 26,
      "outputs": []
    },
    {
      "cell_type": "code",
      "metadata": {
        "id": "K5UfyCn0KtIr"
      },
      "source": [
        "# Defining Spark schema\n",
        "schema_ps = 'userName STRING, at TIMESTAMP, content STRING'"
      ],
      "execution_count": 27,
      "outputs": []
    },
    {
      "cell_type": "code",
      "metadata": {
        "id": "Tn0FsAlb1eBi"
      },
      "source": [
        "df_google_play = pd.DataFrame(np.array(id_reviews), columns=['review'])\n",
        "df_google_play = df_google_play.join(pd.DataFrame(df_google_play.pop('review').tolist()))\n",
        "\n",
        "# Converting data type of 'at' column from string to datetime\n",
        "df_google_play['at'] = pd.to_datetime(df_google_play['at'])"
      ],
      "execution_count": 28,
      "outputs": []
    },
    {
      "cell_type": "code",
      "metadata": {
        "id": "0NyI1xRxysbJ"
      },
      "source": [
        "# Creating Spark dataframe using defined schema\n",
        "df_google_play = spark.createDataFrame(df_google_play[['userName', 'at', 'content']], schema_ps)"
      ],
      "execution_count": 29,
      "outputs": []
    },
    {
      "cell_type": "code",
      "metadata": {
        "colab": {
          "base_uri": "https://localhost:8080/"
        },
        "id": "yIpHTi6Q2DP5",
        "outputId": "f94f7037-06a9-4200-fdbb-d02c102947a2"
      },
      "source": [
        "df_google_play.printSchema()"
      ],
      "execution_count": 30,
      "outputs": [
        {
          "output_type": "stream",
          "name": "stdout",
          "text": [
            "root\n",
            " |-- userName: string (nullable = true)\n",
            " |-- at: timestamp (nullable = true)\n",
            " |-- content: string (nullable = true)\n",
            "\n"
          ]
        }
      ]
    },
    {
      "cell_type": "code",
      "metadata": {
        "colab": {
          "base_uri": "https://localhost:8080/"
        },
        "id": "-CLXPAyBIuiF",
        "outputId": "d5c38aaf-2a5f-42a8-f792-834bc7aff04c"
      },
      "source": [
        "df_google_play.show(n=2)"
      ],
      "execution_count": 31,
      "outputs": [
        {
          "output_type": "stream",
          "name": "stdout",
          "text": [
            "+-------------+-------------------+--------------------+\n",
            "|     userName|                 at|             content|\n",
            "+-------------+-------------------+--------------------+\n",
            "|  Lahma Urtap|2021-12-05 05:11:05|Gak usah maaf2, t...|\n",
            "|Michael T. A.|2021-12-05 03:40:07|Order pake Next D...|\n",
            "+-------------+-------------------+--------------------+\n",
            "only showing top 2 rows\n",
            "\n"
          ]
        }
      ]
    },
    {
      "cell_type": "markdown",
      "metadata": {
        "id": "kUP8HW1CkuCr"
      },
      "source": [
        "# **Transform**"
      ]
    },
    {
      "cell_type": "markdown",
      "metadata": {
        "id": "0jxAnWc_4tz5"
      },
      "source": [
        "### **A. Creating Functions**"
      ]
    },
    {
      "cell_type": "markdown",
      "metadata": {
        "id": "WXT5JavSkxLs"
      },
      "source": [
        "#### **1. Defining Translator Function**"
      ]
    },
    {
      "cell_type": "code",
      "metadata": {
        "id": "Xcab6P3VMLbY"
      },
      "source": [
        "def translator(text):\n",
        "  text = GoogleTranslator(source='id', target='en').translate(text)\n",
        "  return text"
      ],
      "execution_count": 33,
      "outputs": []
    },
    {
      "cell_type": "markdown",
      "metadata": {
        "id": "CiRafKjtkzWV"
      },
      "source": [
        "#### **2. Defining Cleansing Function**"
      ]
    },
    {
      "cell_type": "code",
      "metadata": {
        "id": "XhXgZPzFIt20"
      },
      "source": [
        "def cleaner(text):\n",
        "    text = re.sub(\"@[A-Za-z0-9]+\", \"\", text) #Remove @ sign\n",
        "    text = ''.join(c for c in text if c not in emoji.UNICODE_EMOJI) #Remove Emojis\n",
        "    text = text.replace(\"#\", \"\").replace(\"_\", \"\") #Remove hashtag sign but keep the text\n",
        "    text = \" \".join(w for w in nltk.wordpunct_tokenize(text) \\\n",
        "         if w.lower() in words or not w.isalpha()) #Remove non-english tweets (not 100% success)\n",
        "    return text\n",
        "\n",
        "udf_clean = udf(lambda x:cleaner(x), StringType())"
      ],
      "execution_count": 34,
      "outputs": []
    },
    {
      "cell_type": "markdown",
      "metadata": {
        "id": "SC8nrNrrk2op"
      },
      "source": [
        "#### **3. Defining Sentiment Score Function**"
      ]
    },
    {
      "cell_type": "code",
      "metadata": {
        "id": "0wg9wO3UKnmu"
      },
      "source": [
        "def sentiment_score(text):\n",
        "  blob = TextBlob(str(text))\n",
        "  score = blob.polarity\n",
        "  return score\n",
        "\n",
        "udf_sentiment_score = udf(lambda x:sentiment_score(x), FloatType())"
      ],
      "execution_count": 35,
      "outputs": []
    },
    {
      "cell_type": "markdown",
      "metadata": {
        "id": "JqJ5Vc4q9H9M"
      },
      "source": [
        "#### **4. Defining Sentiment Analysis Function**"
      ]
    },
    {
      "cell_type": "code",
      "metadata": {
        "id": "znozFPKF9Lh0"
      },
      "source": [
        "def sentiment(sentiment_score):\n",
        "   if sentiment_score > 0:\n",
        "    return \"positive\"\n",
        "   elif sentiment_score < 0:\n",
        "    return \"negative\"\n",
        "   else:\n",
        "    return \"neutral\"  \n",
        "\n",
        "udf_sentiment = udf(lambda x:sentiment(x), StringType())"
      ],
      "execution_count": 36,
      "outputs": []
    },
    {
      "cell_type": "markdown",
      "metadata": {
        "id": "hpB9kci_vE-Z"
      },
      "source": [
        "### **B. Applying Functions to Twitter Data**"
      ]
    },
    {
      "cell_type": "code",
      "metadata": {
        "colab": {
          "base_uri": "https://localhost:8080/",
          "height": 206
        },
        "id": "6dIGooLGXO0Q",
        "outputId": "976ff7eb-8e6b-452c-e394-922d4955fb58"
      },
      "source": [
        "#Create pandas DataFrame, to avoid exceeding rate limit on Google Translator Rate Limit\n",
        "pd_Twitter = pd.DataFrame(df_Twitter.toPandas()) \n",
        "pd_Twitter.head()"
      ],
      "execution_count": 37,
      "outputs": [
        {
          "output_type": "execute_result",
          "data": {
            "text/html": [
              "<div>\n",
              "<style scoped>\n",
              "    .dataframe tbody tr th:only-of-type {\n",
              "        vertical-align: middle;\n",
              "    }\n",
              "\n",
              "    .dataframe tbody tr th {\n",
              "        vertical-align: top;\n",
              "    }\n",
              "\n",
              "    .dataframe thead th {\n",
              "        text-align: right;\n",
              "    }\n",
              "</style>\n",
              "<table border=\"1\" class=\"dataframe\">\n",
              "  <thead>\n",
              "    <tr style=\"text-align: right;\">\n",
              "      <th></th>\n",
              "      <th>username</th>\n",
              "      <th>date</th>\n",
              "      <th>tweet</th>\n",
              "    </tr>\n",
              "  </thead>\n",
              "  <tbody>\n",
              "    <tr>\n",
              "      <th>0</th>\n",
              "      <td>GrabID</td>\n",
              "      <td>2021-10-11 23:09:02</td>\n",
              "      <td>@ezizyaa Kalau itu tergantung kebijakan dari A...</td>\n",
              "    </tr>\n",
              "    <tr>\n",
              "      <th>1</th>\n",
              "      <td>GrabID</td>\n",
              "      <td>2021-10-11 22:59:46</td>\n",
              "      <td>@ezizyaa Hai Kak :) buat pengiriman antar kota...</td>\n",
              "    </tr>\n",
              "    <tr>\n",
              "      <th>2</th>\n",
              "      <td>marsupilapila</td>\n",
              "      <td>2021-10-11 21:36:13</td>\n",
              "      <td>@anteraja_id mau tanya paket dengan nomor resi...</td>\n",
              "    </tr>\n",
              "    <tr>\n",
              "      <th>3</th>\n",
              "      <td>aLpyPutraa</td>\n",
              "      <td>2021-10-11 21:19:56</td>\n",
              "      <td>RT @amiranh_: Halo @anteraja_id saya pesan ops...</td>\n",
              "    </tr>\n",
              "    <tr>\n",
              "      <th>4</th>\n",
              "      <td>Naanganang</td>\n",
              "      <td>2021-10-11 21:13:43</td>\n",
              "      <td>@anteraja_id min ini kenapa dari minggu udah a...</td>\n",
              "    </tr>\n",
              "  </tbody>\n",
              "</table>\n",
              "</div>"
            ],
            "text/plain": [
              "        username  ...                                              tweet\n",
              "0         GrabID  ...  @ezizyaa Kalau itu tergantung kebijakan dari A...\n",
              "1         GrabID  ...  @ezizyaa Hai Kak :) buat pengiriman antar kota...\n",
              "2  marsupilapila  ...  @anteraja_id mau tanya paket dengan nomor resi...\n",
              "3     aLpyPutraa  ...  RT @amiranh_: Halo @anteraja_id saya pesan ops...\n",
              "4     Naanganang  ...  @anteraja_id min ini kenapa dari minggu udah a...\n",
              "\n",
              "[5 rows x 3 columns]"
            ]
          },
          "metadata": {},
          "execution_count": 37
        }
      ]
    },
    {
      "cell_type": "code",
      "metadata": {
        "id": "r6IDKAr8X5GJ"
      },
      "source": [
        "# Applying Translator Function (Pandas)\n",
        "pd_Twitter['tweet'] = pd_Twitter['tweet'].map(lambda x: translator(x))"
      ],
      "execution_count": 38,
      "outputs": []
    },
    {
      "cell_type": "code",
      "metadata": {
        "colab": {
          "base_uri": "https://localhost:8080/",
          "height": 206
        },
        "id": "2_zP3UNocHP-",
        "outputId": "fb45abac-d8b3-41e4-90f4-8180cfb3897a"
      },
      "source": [
        "pd_Twitter.tail()"
      ],
      "execution_count": 39,
      "outputs": [
        {
          "output_type": "execute_result",
          "data": {
            "text/html": [
              "<div>\n",
              "<style scoped>\n",
              "    .dataframe tbody tr th:only-of-type {\n",
              "        vertical-align: middle;\n",
              "    }\n",
              "\n",
              "    .dataframe tbody tr th {\n",
              "        vertical-align: top;\n",
              "    }\n",
              "\n",
              "    .dataframe thead th {\n",
              "        text-align: right;\n",
              "    }\n",
              "</style>\n",
              "<table border=\"1\" class=\"dataframe\">\n",
              "  <thead>\n",
              "    <tr style=\"text-align: right;\">\n",
              "      <th></th>\n",
              "      <th>username</th>\n",
              "      <th>date</th>\n",
              "      <th>tweet</th>\n",
              "    </tr>\n",
              "  </thead>\n",
              "  <tbody>\n",
              "    <tr>\n",
              "      <th>795</th>\n",
              "      <td>IndraNubia</td>\n",
              "      <td>2021-10-18 10:53:30</td>\n",
              "      <td>@anteraja_id @MediaKonsumenID This is a photo ...</td>\n",
              "    </tr>\n",
              "    <tr>\n",
              "      <th>796</th>\n",
              "      <td>IndraNubia</td>\n",
              "      <td>2021-10-18 10:53:01</td>\n",
              "      <td>@anteraja_id @MediaKonsumenID You can see the ...</td>\n",
              "    </tr>\n",
              "    <tr>\n",
              "      <th>797</th>\n",
              "      <td>Irfan22031</td>\n",
              "      <td>2021-10-18 10:51:00</td>\n",
              "      <td>@anteraja_id It's been a week that it hasn't b...</td>\n",
              "    </tr>\n",
              "    <tr>\n",
              "      <th>798</th>\n",
              "      <td>iEkaJahe</td>\n",
              "      <td>2021-10-18 10:50:44</td>\n",
              "      <td>@anteraja_id my package got stuck and then in ...</td>\n",
              "    </tr>\n",
              "    <tr>\n",
              "      <th>799</th>\n",
              "      <td>ro2anisa</td>\n",
              "      <td>2021-10-18 10:49:21</td>\n",
              "      <td>@anteraja_id Thank you @anteraja_id my shipmen...</td>\n",
              "    </tr>\n",
              "  </tbody>\n",
              "</table>\n",
              "</div>"
            ],
            "text/plain": [
              "       username  ...                                              tweet\n",
              "795  IndraNubia  ...  @anteraja_id @MediaKonsumenID This is a photo ...\n",
              "796  IndraNubia  ...  @anteraja_id @MediaKonsumenID You can see the ...\n",
              "797  Irfan22031  ...  @anteraja_id It's been a week that it hasn't b...\n",
              "798    iEkaJahe  ...  @anteraja_id my package got stuck and then in ...\n",
              "799    ro2anisa  ...  @anteraja_id Thank you @anteraja_id my shipmen...\n",
              "\n",
              "[5 rows x 3 columns]"
            ]
          },
          "metadata": {},
          "execution_count": 39
        }
      ]
    },
    {
      "cell_type": "code",
      "metadata": {
        "id": "8z0d3mDuc34w"
      },
      "source": [
        "#Turn Pandas to Spark (For Faster Computation)\n",
        "df_Twitter=spark.createDataFrame(pd_Twitter)"
      ],
      "execution_count": 40,
      "outputs": []
    },
    {
      "cell_type": "code",
      "metadata": {
        "id": "DV3qXBs-dbZz"
      },
      "source": [
        "# Applying Cleansing Function\n",
        "df_Twitter = df_Twitter.withColumn(\"tweet\", udf_clean(col(\"tweet\"))).select(\"username\", \"date\", \"tweet\")"
      ],
      "execution_count": 41,
      "outputs": []
    },
    {
      "cell_type": "code",
      "metadata": {
        "colab": {
          "base_uri": "https://localhost:8080/"
        },
        "id": "0Amlm-iBpwBE",
        "outputId": "42386a42-4062-4aef-fcbc-6cde0f8a5266"
      },
      "source": [
        "df_Twitter.show(n=5)"
      ],
      "execution_count": 42,
      "outputs": [
        {
          "output_type": "stream",
          "name": "stdout",
          "text": [
            "+-------------+-------------------+--------------------+\n",
            "|     username|               date|               tweet|\n",
            "+-------------+-------------------+--------------------+\n",
            "|       GrabID|2021-10-11 23:09:02|If it on the poli...|\n",
            "|       GrabID|2021-10-11 22:59:46|Hi Sis :) for int...|\n",
            "|marsupilapila|2021-10-11 21:36:13|id want to ask fo...|\n",
            "|   aLpyPutraa|2021-10-11 21:19:56|: Hello id I orde...|\n",
            "|   Naanganang|2021-10-11 21:13:43|id this min why s...|\n",
            "+-------------+-------------------+--------------------+\n",
            "only showing top 5 rows\n",
            "\n"
          ]
        }
      ]
    },
    {
      "cell_type": "code",
      "metadata": {
        "id": "0gqrMYqwXRm7"
      },
      "source": [
        "# Applying Sentiment Score Function\n",
        "df_Twitter = df_Twitter.withColumn(\"sentiment_score\", udf_sentiment_score(col(\"tweet\"))).select(\"username\", \"date\", \"tweet\", \"sentiment_score\")"
      ],
      "execution_count": 43,
      "outputs": []
    },
    {
      "cell_type": "code",
      "metadata": {
        "colab": {
          "base_uri": "https://localhost:8080/"
        },
        "id": "LTktdTDjYxAB",
        "outputId": "6aa87f94-018f-40c3-88b6-28bf2fb538d1"
      },
      "source": [
        "df_Twitter.show(n=5)"
      ],
      "execution_count": 44,
      "outputs": [
        {
          "output_type": "stream",
          "name": "stdout",
          "text": [
            "+-------------+-------------------+--------------------+---------------+\n",
            "|     username|               date|               tweet|sentiment_score|\n",
            "+-------------+-------------------+--------------------+---------------+\n",
            "|       GrabID|2021-10-11 23:09:02|If it on the poli...|            0.0|\n",
            "|       GrabID|2021-10-11 22:59:46|Hi Sis :) for int...|           0.25|\n",
            "|marsupilapila|2021-10-11 21:36:13|id want to ask fo...|            0.0|\n",
            "|   aLpyPutraa|2021-10-11 21:19:56|: Hello id I orde...|            0.0|\n",
            "|   Naanganang|2021-10-11 21:13:43|id this min why s...|            0.0|\n",
            "+-------------+-------------------+--------------------+---------------+\n",
            "only showing top 5 rows\n",
            "\n"
          ]
        }
      ]
    },
    {
      "cell_type": "code",
      "metadata": {
        "id": "zAx0szaOQyq6"
      },
      "source": [
        "# Applying Sentiment Analysis Function\n",
        "df_Twitter = df_Twitter.withColumn(\"sentiment\", udf_sentiment(col(\"sentiment_score\"))).select(\"username\", \"date\", \"tweet\", \"sentiment_score\", \"sentiment\")"
      ],
      "execution_count": 45,
      "outputs": []
    },
    {
      "cell_type": "code",
      "metadata": {
        "colab": {
          "base_uri": "https://localhost:8080/"
        },
        "id": "z3xHCkcZ5Gdh",
        "outputId": "2c016c49-5ba8-4e2b-a654-e915a8defc96"
      },
      "source": [
        "df_Twitter.show(n=7)"
      ],
      "execution_count": 46,
      "outputs": [
        {
          "output_type": "stream",
          "name": "stdout",
          "text": [
            "+--------------+-------------------+--------------------+---------------+---------+\n",
            "|      username|               date|               tweet|sentiment_score|sentiment|\n",
            "+--------------+-------------------+--------------------+---------------+---------+\n",
            "|        GrabID|2021-10-11 23:09:02|If it on the poli...|            0.0|  neutral|\n",
            "|        GrabID|2021-10-11 22:59:46|Hi Sis :) for int...|           0.25| positive|\n",
            "| marsupilapila|2021-10-11 21:36:13|id want to ask fo...|            0.0|  neutral|\n",
            "|    aLpyPutraa|2021-10-11 21:19:56|: Hello id I orde...|            0.0|  neutral|\n",
            "|    Naanganang|2021-10-11 21:13:43|id this min why s...|            0.0|  neutral|\n",
            "|  nanang_indra|2021-10-11 21:09:07|id hello sis rece...|            0.0|  neutral|\n",
            "|cabangpurnamaa|2021-10-11 19:16:04|, I have to be fu...|            0.0|  neutral|\n",
            "+--------------+-------------------+--------------------+---------------+---------+\n",
            "only showing top 7 rows\n",
            "\n"
          ]
        }
      ]
    },
    {
      "cell_type": "code",
      "metadata": {
        "id": "6HT_gyAepZh8"
      },
      "source": [
        "export_Twitter = df_Twitter.select(\"username\", \"date\", \"tweet\", \"sentiment_score\", \"sentiment\")"
      ],
      "execution_count": 47,
      "outputs": []
    },
    {
      "cell_type": "code",
      "metadata": {
        "id": "wCX9xTeagtes"
      },
      "source": [
        "#Create pandas DataFrame, to export data\n",
        "pd_Twitter = pd.DataFrame(export_Twitter.toPandas())"
      ],
      "execution_count": 48,
      "outputs": []
    },
    {
      "cell_type": "markdown",
      "metadata": {
        "id": "-1U-_YFZvQNG"
      },
      "source": [
        "### **C. Applying Functions to Google Play Store Review Data**"
      ]
    },
    {
      "cell_type": "code",
      "metadata": {
        "colab": {
          "base_uri": "https://localhost:8080/",
          "height": 206
        },
        "id": "VVTNHhoUhVEn",
        "outputId": "ea6f9992-47c5-48f6-8a0d-c3af41ae14d1"
      },
      "source": [
        "#Create pandas DataFrame, to avoid exceeding rate limit on Google Translator Rate Limit\n",
        "pd_google_play = pd.DataFrame(df_google_play.toPandas()) \n",
        "pd_google_play.head()"
      ],
      "execution_count": 49,
      "outputs": [
        {
          "output_type": "execute_result",
          "data": {
            "text/html": [
              "<div>\n",
              "<style scoped>\n",
              "    .dataframe tbody tr th:only-of-type {\n",
              "        vertical-align: middle;\n",
              "    }\n",
              "\n",
              "    .dataframe tbody tr th {\n",
              "        vertical-align: top;\n",
              "    }\n",
              "\n",
              "    .dataframe thead th {\n",
              "        text-align: right;\n",
              "    }\n",
              "</style>\n",
              "<table border=\"1\" class=\"dataframe\">\n",
              "  <thead>\n",
              "    <tr style=\"text-align: right;\">\n",
              "      <th></th>\n",
              "      <th>userName</th>\n",
              "      <th>at</th>\n",
              "      <th>content</th>\n",
              "    </tr>\n",
              "  </thead>\n",
              "  <tbody>\n",
              "    <tr>\n",
              "      <th>0</th>\n",
              "      <td>Lahma Urtap</td>\n",
              "      <td>2021-12-05 05:11:05</td>\n",
              "      <td>Gak usah maaf2, tingkatin aja layananmu.</td>\n",
              "    </tr>\n",
              "    <tr>\n",
              "      <th>1</th>\n",
              "      <td>Michael T. A.</td>\n",
              "      <td>2021-12-05 03:40:07</td>\n",
              "      <td>Order pake Next Day, tapi barang gak nyampe es...</td>\n",
              "    </tr>\n",
              "    <tr>\n",
              "      <th>2</th>\n",
              "      <td>Krisdian Agung</td>\n",
              "      <td>2021-12-05 02:41:05</td>\n",
              "      <td>Friendly UI and you can choose what type of pa...</td>\n",
              "    </tr>\n",
              "    <tr>\n",
              "      <th>3</th>\n",
              "      <td>Sky Ultra</td>\n",
              "      <td>2021-12-04 21:01:30</td>\n",
              "      <td>Service jelek. Kurir membohongi penerima.</td>\n",
              "    </tr>\n",
              "    <tr>\n",
              "      <th>4</th>\n",
              "      <td>Dian Herdiyani</td>\n",
              "      <td>2021-12-04 14:28:34</td>\n",
              "      <td>Good</td>\n",
              "    </tr>\n",
              "  </tbody>\n",
              "</table>\n",
              "</div>"
            ],
            "text/plain": [
              "         userName  ...                                            content\n",
              "0     Lahma Urtap  ...           Gak usah maaf2, tingkatin aja layananmu.\n",
              "1   Michael T. A.  ...  Order pake Next Day, tapi barang gak nyampe es...\n",
              "2  Krisdian Agung  ...  Friendly UI and you can choose what type of pa...\n",
              "3       Sky Ultra  ...          Service jelek. Kurir membohongi penerima.\n",
              "4  Dian Herdiyani  ...                                               Good\n",
              "\n",
              "[5 rows x 3 columns]"
            ]
          },
          "metadata": {},
          "execution_count": 49
        }
      ]
    },
    {
      "cell_type": "code",
      "metadata": {
        "colab": {
          "base_uri": "https://localhost:8080/",
          "height": 423
        },
        "id": "aJF1Nhfoj9Jc",
        "outputId": "3c8e4773-f60b-4bf2-f8ba-264b60655b81"
      },
      "source": [
        "pd_google_play = pd_google_play[pd_google_play['at'].dt.strftime('%Y-%m-%d') >= \"2021-11-11\"]\n",
        "pd_google_play"
      ],
      "execution_count": 50,
      "outputs": [
        {
          "output_type": "execute_result",
          "data": {
            "text/html": [
              "<div>\n",
              "<style scoped>\n",
              "    .dataframe tbody tr th:only-of-type {\n",
              "        vertical-align: middle;\n",
              "    }\n",
              "\n",
              "    .dataframe tbody tr th {\n",
              "        vertical-align: top;\n",
              "    }\n",
              "\n",
              "    .dataframe thead th {\n",
              "        text-align: right;\n",
              "    }\n",
              "</style>\n",
              "<table border=\"1\" class=\"dataframe\">\n",
              "  <thead>\n",
              "    <tr style=\"text-align: right;\">\n",
              "      <th></th>\n",
              "      <th>userName</th>\n",
              "      <th>at</th>\n",
              "      <th>content</th>\n",
              "    </tr>\n",
              "  </thead>\n",
              "  <tbody>\n",
              "    <tr>\n",
              "      <th>0</th>\n",
              "      <td>Lahma Urtap</td>\n",
              "      <td>2021-12-05 05:11:05</td>\n",
              "      <td>Gak usah maaf2, tingkatin aja layananmu.</td>\n",
              "    </tr>\n",
              "    <tr>\n",
              "      <th>1</th>\n",
              "      <td>Michael T. A.</td>\n",
              "      <td>2021-12-05 03:40:07</td>\n",
              "      <td>Order pake Next Day, tapi barang gak nyampe es...</td>\n",
              "    </tr>\n",
              "    <tr>\n",
              "      <th>2</th>\n",
              "      <td>Krisdian Agung</td>\n",
              "      <td>2021-12-05 02:41:05</td>\n",
              "      <td>Friendly UI and you can choose what type of pa...</td>\n",
              "    </tr>\n",
              "    <tr>\n",
              "      <th>3</th>\n",
              "      <td>Sky Ultra</td>\n",
              "      <td>2021-12-04 21:01:30</td>\n",
              "      <td>Service jelek. Kurir membohongi penerima.</td>\n",
              "    </tr>\n",
              "    <tr>\n",
              "      <th>4</th>\n",
              "      <td>Dian Herdiyani</td>\n",
              "      <td>2021-12-04 14:28:34</td>\n",
              "      <td>Good</td>\n",
              "    </tr>\n",
              "    <tr>\n",
              "      <th>...</th>\n",
              "      <td>...</td>\n",
              "      <td>...</td>\n",
              "      <td>...</td>\n",
              "    </tr>\n",
              "    <tr>\n",
              "      <th>256</th>\n",
              "      <td>Olivia IPD</td>\n",
              "      <td>2021-11-11 02:34:41</td>\n",
              "      <td>Pengirimannya cepat, bahkan lebih cepat dari p...</td>\n",
              "    </tr>\n",
              "    <tr>\n",
              "      <th>257</th>\n",
              "      <td>Richard Sebastian</td>\n",
              "      <td>2021-11-11 02:28:34</td>\n",
              "      <td>Pengirimannya cepat dan banyak promonya juga</td>\n",
              "    </tr>\n",
              "    <tr>\n",
              "      <th>258</th>\n",
              "      <td>Rifka Fitriana Rahmadani</td>\n",
              "      <td>2021-11-11 02:27:34</td>\n",
              "      <td>works well and really help if you need to send...</td>\n",
              "    </tr>\n",
              "    <tr>\n",
              "      <th>259</th>\n",
              "      <td>Devinta Rhista Purnama</td>\n",
              "      <td>2021-11-11 01:57:10</td>\n",
              "      <td>Search history AWB tidak bisa menggunakan nama...</td>\n",
              "    </tr>\n",
              "    <tr>\n",
              "      <th>260</th>\n",
              "      <td>Sitifatimahaz</td>\n",
              "      <td>2021-11-11 01:55:50</td>\n",
              "      <td>Promonya wadidaw mantul</td>\n",
              "    </tr>\n",
              "  </tbody>\n",
              "</table>\n",
              "<p>261 rows × 3 columns</p>\n",
              "</div>"
            ],
            "text/plain": [
              "                     userName  ...                                            content\n",
              "0                 Lahma Urtap  ...           Gak usah maaf2, tingkatin aja layananmu.\n",
              "1               Michael T. A.  ...  Order pake Next Day, tapi barang gak nyampe es...\n",
              "2              Krisdian Agung  ...  Friendly UI and you can choose what type of pa...\n",
              "3                   Sky Ultra  ...          Service jelek. Kurir membohongi penerima.\n",
              "4              Dian Herdiyani  ...                                               Good\n",
              "..                        ...  ...                                                ...\n",
              "256                Olivia IPD  ...  Pengirimannya cepat, bahkan lebih cepat dari p...\n",
              "257         Richard Sebastian  ...       Pengirimannya cepat dan banyak promonya juga\n",
              "258  Rifka Fitriana Rahmadani  ...  works well and really help if you need to send...\n",
              "259    Devinta Rhista Purnama  ...  Search history AWB tidak bisa menggunakan nama...\n",
              "260             Sitifatimahaz  ...                            Promonya wadidaw mantul\n",
              "\n",
              "[261 rows x 3 columns]"
            ]
          },
          "metadata": {},
          "execution_count": 50
        }
      ]
    },
    {
      "cell_type": "code",
      "metadata": {
        "id": "Vq2QUK9Iiv_E"
      },
      "source": [
        "#Translate from pandas dataframe to GoogleTranslator API\n",
        "pd_google_play['content'] = pd_google_play['content'].map(lambda x: translator(x))"
      ],
      "execution_count": 51,
      "outputs": []
    },
    {
      "cell_type": "code",
      "metadata": {
        "colab": {
          "base_uri": "https://localhost:8080/",
          "height": 206
        },
        "id": "PiBabnZLlcze",
        "outputId": "f9c23579-cb16-402f-f2e2-f0c0d75c8367"
      },
      "source": [
        "pd_google_play.tail()"
      ],
      "execution_count": 52,
      "outputs": [
        {
          "output_type": "execute_result",
          "data": {
            "text/html": [
              "<div>\n",
              "<style scoped>\n",
              "    .dataframe tbody tr th:only-of-type {\n",
              "        vertical-align: middle;\n",
              "    }\n",
              "\n",
              "    .dataframe tbody tr th {\n",
              "        vertical-align: top;\n",
              "    }\n",
              "\n",
              "    .dataframe thead th {\n",
              "        text-align: right;\n",
              "    }\n",
              "</style>\n",
              "<table border=\"1\" class=\"dataframe\">\n",
              "  <thead>\n",
              "    <tr style=\"text-align: right;\">\n",
              "      <th></th>\n",
              "      <th>userName</th>\n",
              "      <th>at</th>\n",
              "      <th>content</th>\n",
              "    </tr>\n",
              "  </thead>\n",
              "  <tbody>\n",
              "    <tr>\n",
              "      <th>256</th>\n",
              "      <td>Olivia IPD</td>\n",
              "      <td>2021-11-11 02:34:41</td>\n",
              "      <td>Fast delivery, even faster than expected. Alwa...</td>\n",
              "    </tr>\n",
              "    <tr>\n",
              "      <th>257</th>\n",
              "      <td>Richard Sebastian</td>\n",
              "      <td>2021-11-11 02:28:34</td>\n",
              "      <td>Fast delivery and lots of promotions too</td>\n",
              "    </tr>\n",
              "    <tr>\n",
              "      <th>258</th>\n",
              "      <td>Rifka Fitriana Rahmadani</td>\n",
              "      <td>2021-11-11 02:27:34</td>\n",
              "      <td>works well and really help if you need to send...</td>\n",
              "    </tr>\n",
              "    <tr>\n",
              "      <th>259</th>\n",
              "      <td>Devinta Rhista Purnama</td>\n",
              "      <td>2021-11-11 01:57:10</td>\n",
              "      <td>Search history AWB can't use the recipient's n...</td>\n",
              "    </tr>\n",
              "    <tr>\n",
              "      <th>260</th>\n",
              "      <td>Sitifatimahaz</td>\n",
              "      <td>2021-11-11 01:55:50</td>\n",
              "      <td>The promo wadidaw helps</td>\n",
              "    </tr>\n",
              "  </tbody>\n",
              "</table>\n",
              "</div>"
            ],
            "text/plain": [
              "                     userName  ...                                            content\n",
              "256                Olivia IPD  ...  Fast delivery, even faster than expected. Alwa...\n",
              "257         Richard Sebastian  ...           Fast delivery and lots of promotions too\n",
              "258  Rifka Fitriana Rahmadani  ...  works well and really help if you need to send...\n",
              "259    Devinta Rhista Purnama  ...  Search history AWB can't use the recipient's n...\n",
              "260             Sitifatimahaz  ...                            The promo wadidaw helps\n",
              "\n",
              "[5 rows x 3 columns]"
            ]
          },
          "metadata": {},
          "execution_count": 52
        }
      ]
    },
    {
      "cell_type": "code",
      "metadata": {
        "id": "r68c7lrSuFaz"
      },
      "source": [
        "pd_google_play = pd_google_play[pd_google_play['content'].notna()]"
      ],
      "execution_count": 53,
      "outputs": []
    },
    {
      "cell_type": "code",
      "metadata": {
        "colab": {
          "base_uri": "https://localhost:8080/",
          "height": 206
        },
        "id": "OqIFJvkpuOVM",
        "outputId": "b62820ca-731e-4a7b-97d9-2b6ee1c8bd33"
      },
      "source": [
        "pd_google_play.head()"
      ],
      "execution_count": 54,
      "outputs": [
        {
          "output_type": "execute_result",
          "data": {
            "text/html": [
              "<div>\n",
              "<style scoped>\n",
              "    .dataframe tbody tr th:only-of-type {\n",
              "        vertical-align: middle;\n",
              "    }\n",
              "\n",
              "    .dataframe tbody tr th {\n",
              "        vertical-align: top;\n",
              "    }\n",
              "\n",
              "    .dataframe thead th {\n",
              "        text-align: right;\n",
              "    }\n",
              "</style>\n",
              "<table border=\"1\" class=\"dataframe\">\n",
              "  <thead>\n",
              "    <tr style=\"text-align: right;\">\n",
              "      <th></th>\n",
              "      <th>userName</th>\n",
              "      <th>at</th>\n",
              "      <th>content</th>\n",
              "    </tr>\n",
              "  </thead>\n",
              "  <tbody>\n",
              "    <tr>\n",
              "      <th>0</th>\n",
              "      <td>Lahma Urtap</td>\n",
              "      <td>2021-12-05 05:11:05</td>\n",
              "      <td>No need to apologize, just improve your service.</td>\n",
              "    </tr>\n",
              "    <tr>\n",
              "      <th>1</th>\n",
              "      <td>Michael T. A.</td>\n",
              "      <td>2021-12-05 03:40:07</td>\n",
              "      <td>Order using Next Day, but the item doesn't arr...</td>\n",
              "    </tr>\n",
              "    <tr>\n",
              "      <th>2</th>\n",
              "      <td>Krisdian Agung</td>\n",
              "      <td>2021-12-05 02:41:05</td>\n",
              "      <td>Friendly UI and you can choose what type of pa...</td>\n",
              "    </tr>\n",
              "    <tr>\n",
              "      <th>3</th>\n",
              "      <td>Sky Ultra</td>\n",
              "      <td>2021-12-04 21:01:30</td>\n",
              "      <td>Bad service. Courier lied to the recipient.</td>\n",
              "    </tr>\n",
              "    <tr>\n",
              "      <th>4</th>\n",
              "      <td>Dian Herdiyani</td>\n",
              "      <td>2021-12-04 14:28:34</td>\n",
              "      <td>good</td>\n",
              "    </tr>\n",
              "  </tbody>\n",
              "</table>\n",
              "</div>"
            ],
            "text/plain": [
              "         userName  ...                                            content\n",
              "0     Lahma Urtap  ...   No need to apologize, just improve your service.\n",
              "1   Michael T. A.  ...  Order using Next Day, but the item doesn't arr...\n",
              "2  Krisdian Agung  ...  Friendly UI and you can choose what type of pa...\n",
              "3       Sky Ultra  ...        Bad service. Courier lied to the recipient.\n",
              "4  Dian Herdiyani  ...                                               good\n",
              "\n",
              "[5 rows x 3 columns]"
            ]
          },
          "metadata": {},
          "execution_count": 54
        }
      ]
    },
    {
      "cell_type": "code",
      "metadata": {
        "id": "PG2qdoHclkUi"
      },
      "source": [
        "#Turn Pandas to Spark (For Faster Computation)\n",
        "df_google_play=spark.createDataFrame(pd_google_play)"
      ],
      "execution_count": 55,
      "outputs": []
    },
    {
      "cell_type": "code",
      "metadata": {
        "colab": {
          "base_uri": "https://localhost:8080/"
        },
        "id": "UcDmiocIl6Ao",
        "outputId": "1e507aac-f598-4d00-d52c-228545391fe9"
      },
      "source": [
        "df_google_play.show(2)"
      ],
      "execution_count": 56,
      "outputs": [
        {
          "output_type": "stream",
          "name": "stdout",
          "text": [
            "+-------------+-------------------+--------------------+\n",
            "|     userName|                 at|             content|\n",
            "+-------------+-------------------+--------------------+\n",
            "|  Lahma Urtap|2021-12-05 05:11:05|No need to apolog...|\n",
            "|Michael T. A.|2021-12-05 03:40:07|Order using Next ...|\n",
            "+-------------+-------------------+--------------------+\n",
            "only showing top 2 rows\n",
            "\n"
          ]
        }
      ]
    },
    {
      "cell_type": "code",
      "metadata": {
        "id": "Cvh6uyr3uJ0G"
      },
      "source": [
        "# Applying Cleansing Function\n",
        "df_google_play = df_google_play.withColumn(\"content\", udf_clean(col(\"content\"))).select(\"userName\", \"at\", \"content\")"
      ],
      "execution_count": 57,
      "outputs": []
    },
    {
      "cell_type": "code",
      "metadata": {
        "id": "ND9kso3d0vLY",
        "colab": {
          "base_uri": "https://localhost:8080/"
        },
        "outputId": "5a7d0bb6-54ff-46ce-eed0-b0b002fa32c9"
      },
      "source": [
        "df_google_play.show(5)"
      ],
      "execution_count": 58,
      "outputs": [
        {
          "output_type": "stream",
          "name": "stdout",
          "text": [
            "+--------------+-------------------+--------------------+\n",
            "|      userName|                 at|             content|\n",
            "+--------------+-------------------+--------------------+\n",
            "|   Lahma Urtap|2021-12-05 05:11:05|No need to apolog...|\n",
            "| Michael T. A.|2021-12-05 03:40:07|Order Next Day , ...|\n",
            "|Krisdian Agung|2021-12-05 02:41:05|Friendly and you ...|\n",
            "|     Sky Ultra|2021-12-04 21:01:30|Bad service . Cou...|\n",
            "|Dian Herdiyani|2021-12-04 14:28:34|                good|\n",
            "+--------------+-------------------+--------------------+\n",
            "only showing top 5 rows\n",
            "\n"
          ]
        }
      ]
    },
    {
      "cell_type": "code",
      "metadata": {
        "id": "nKGOI89Q3H-C"
      },
      "source": [
        "# Applying Sentiment Score Function\n",
        "df_google_play = df_google_play.withColumn(\"sentiment_score\", udf_sentiment_score(col(\"content\"))).select(\"userName\", \"at\", \"content\", \"sentiment_score\")"
      ],
      "execution_count": 59,
      "outputs": []
    },
    {
      "cell_type": "code",
      "metadata": {
        "id": "-aMrvnnB3gpW",
        "colab": {
          "base_uri": "https://localhost:8080/"
        },
        "outputId": "23f5a0ed-458b-439d-9e1e-28bf01430e4d"
      },
      "source": [
        "df_google_play.show(n=5)"
      ],
      "execution_count": 60,
      "outputs": [
        {
          "output_type": "stream",
          "name": "stdout",
          "text": [
            "+--------------+-------------------+--------------------+---------------+\n",
            "|      userName|                 at|             content|sentiment_score|\n",
            "+--------------+-------------------+--------------------+---------------+\n",
            "|   Lahma Urtap|2021-12-05 05:11:05|No need to apolog...|            0.0|\n",
            "| Michael T. A.|2021-12-05 03:40:07|Order Next Day , ...|            0.0|\n",
            "|Krisdian Agung|2021-12-05 02:41:05|Friendly and you ...|     0.40416667|\n",
            "|     Sky Ultra|2021-12-04 21:01:30|Bad service . Cou...|           -0.7|\n",
            "|Dian Herdiyani|2021-12-04 14:28:34|                good|            0.7|\n",
            "+--------------+-------------------+--------------------+---------------+\n",
            "only showing top 5 rows\n",
            "\n"
          ]
        }
      ]
    },
    {
      "cell_type": "code",
      "metadata": {
        "id": "qPqNTxb5FTQ8"
      },
      "source": [
        "# Applying Sentiment Category Function\n",
        "df_google_play = df_google_play.withColumn(\"sentiment\", udf_sentiment(col(\"sentiment_score\"))).select(\"userName\", \"at\", \"content\", \"sentiment_score\", \"sentiment\")"
      ],
      "execution_count": 61,
      "outputs": []
    },
    {
      "cell_type": "code",
      "metadata": {
        "id": "WM0kqlRRREyI",
        "colab": {
          "base_uri": "https://localhost:8080/"
        },
        "outputId": "56c810a9-f3d3-4706-f2c4-056813bf56a2"
      },
      "source": [
        "df_google_play.show(n=5)"
      ],
      "execution_count": 62,
      "outputs": [
        {
          "output_type": "stream",
          "name": "stdout",
          "text": [
            "+--------------+-------------------+--------------------+---------------+---------+\n",
            "|      userName|                 at|             content|sentiment_score|sentiment|\n",
            "+--------------+-------------------+--------------------+---------------+---------+\n",
            "|   Lahma Urtap|2021-12-05 05:11:05|No need to apolog...|            0.0|  neutral|\n",
            "| Michael T. A.|2021-12-05 03:40:07|Order Next Day , ...|            0.0|  neutral|\n",
            "|Krisdian Agung|2021-12-05 02:41:05|Friendly and you ...|     0.40416667| positive|\n",
            "|     Sky Ultra|2021-12-04 21:01:30|Bad service . Cou...|           -0.7| negative|\n",
            "|Dian Herdiyani|2021-12-04 14:28:34|                good|            0.7| positive|\n",
            "+--------------+-------------------+--------------------+---------------+---------+\n",
            "only showing top 5 rows\n",
            "\n"
          ]
        }
      ]
    },
    {
      "cell_type": "code",
      "metadata": {
        "id": "jp_edxexwott"
      },
      "source": [
        "export_google_play = df_google_play.select(\"userName\", \"at\", \"content\", \"sentiment_score\", \"sentiment\")"
      ],
      "execution_count": 63,
      "outputs": []
    },
    {
      "cell_type": "code",
      "metadata": {
        "id": "0v5_6zUWwpqn"
      },
      "source": [
        "#Create pandas DataFrame, to export data\n",
        "pd_google_play = pd.DataFrame(export_google_play.toPandas()) "
      ],
      "execution_count": 64,
      "outputs": []
    },
    {
      "cell_type": "markdown",
      "metadata": {
        "id": "w471gwOXvsJW"
      },
      "source": [
        "# **Load**"
      ]
    },
    {
      "cell_type": "code",
      "metadata": {
        "colab": {
          "base_uri": "https://localhost:8080/"
        },
        "id": "teOAPx8ZIQ2D",
        "outputId": "348bc88d-be40-46ee-ce8d-ee227d519f08"
      },
      "source": [
        "#Load Twitter data (pd_Twitter) to Azure Storage\n",
        "\n",
        "loadTwitter = io.StringIO()\n",
        "loadTwitter = pd_Twitter.to_csv(index_label=\"idx\", encoding = \"utf-8\")\n",
        "\n",
        "blobService = BlockBlobService(account_name=accountName, account_key=accountKey)\n",
        "blobService.create_blob_from_text(containerName, 'TwitterSentimentAnalysis.csv', loadTwitter)"
      ],
      "execution_count": 68,
      "outputs": [
        {
          "output_type": "execute_result",
          "data": {
            "text/plain": [
              "<azure.storage.blob.models.ResourceProperties at 0x7fa3af456810>"
            ]
          },
          "metadata": {},
          "execution_count": 68
        }
      ]
    },
    {
      "cell_type": "code",
      "metadata": {
        "colab": {
          "base_uri": "https://localhost:8080/"
        },
        "id": "L8QknfZ9JYtp",
        "outputId": "2c797c03-ec6b-4132-8fc8-e3d61e5ba978"
      },
      "source": [
        "#Load Twitter data (pd_Twitter) to Azure Storage\n",
        "\n",
        "loadPlaystore = io.StringIO()\n",
        "loadPlaystore = pd_google_play.to_csv(index_label=\"idx\", encoding = \"utf-8\")\n",
        "\n",
        "blobService = BlockBlobService(account_name=accountName, account_key=accountKey)\n",
        "blobService.create_blob_from_text(containerName, 'PlaystoreSentimentAnalysis.csv', loadPlaystore)"
      ],
      "execution_count": 70,
      "outputs": [
        {
          "output_type": "execute_result",
          "data": {
            "text/plain": [
              "<azure.storage.blob.models.ResourceProperties at 0x7fa3b0514dd0>"
            ]
          },
          "metadata": {},
          "execution_count": 70
        }
      ]
    },
    {
      "cell_type": "markdown",
      "metadata": {
        "id": "REmcCmGBvuCi"
      },
      "source": [
        "# **Basic Viz**"
      ]
    },
    {
      "cell_type": "markdown",
      "metadata": {
        "id": "461YhWJlDy6M"
      },
      "source": [
        "### **A. Twitter Sentiment Analysis**"
      ]
    },
    {
      "cell_type": "code",
      "metadata": {
        "id": "ipjKiyqhzPfM"
      },
      "source": [
        "tmp_Twitter = pd_Twitter.groupby(pd_Twitter.date.dt.day).agg('mean')"
      ],
      "execution_count": 71,
      "outputs": []
    },
    {
      "cell_type": "code",
      "metadata": {
        "id": "jEmpXf295aAE"
      },
      "source": [
        "tmp_Twitter = tmp_Twitter.reset_index()"
      ],
      "execution_count": 72,
      "outputs": []
    },
    {
      "cell_type": "code",
      "metadata": {
        "colab": {
          "base_uri": "https://localhost:8080/",
          "height": 300
        },
        "id": "6G9itcJazw4x",
        "outputId": "f0d051c0-9140-4f78-ff3a-e8a79e85853e"
      },
      "source": [
        "tmp_Twitter"
      ],
      "execution_count": 73,
      "outputs": [
        {
          "output_type": "execute_result",
          "data": {
            "text/html": [
              "<div>\n",
              "<style scoped>\n",
              "    .dataframe tbody tr th:only-of-type {\n",
              "        vertical-align: middle;\n",
              "    }\n",
              "\n",
              "    .dataframe tbody tr th {\n",
              "        vertical-align: top;\n",
              "    }\n",
              "\n",
              "    .dataframe thead th {\n",
              "        text-align: right;\n",
              "    }\n",
              "</style>\n",
              "<table border=\"1\" class=\"dataframe\">\n",
              "  <thead>\n",
              "    <tr style=\"text-align: right;\">\n",
              "      <th></th>\n",
              "      <th>date</th>\n",
              "      <th>sentiment_score</th>\n",
              "    </tr>\n",
              "  </thead>\n",
              "  <tbody>\n",
              "    <tr>\n",
              "      <th>0</th>\n",
              "      <td>11</td>\n",
              "      <td>0.105363</td>\n",
              "    </tr>\n",
              "    <tr>\n",
              "      <th>1</th>\n",
              "      <td>12</td>\n",
              "      <td>0.068682</td>\n",
              "    </tr>\n",
              "    <tr>\n",
              "      <th>2</th>\n",
              "      <td>13</td>\n",
              "      <td>0.025952</td>\n",
              "    </tr>\n",
              "    <tr>\n",
              "      <th>3</th>\n",
              "      <td>14</td>\n",
              "      <td>0.037947</td>\n",
              "    </tr>\n",
              "    <tr>\n",
              "      <th>4</th>\n",
              "      <td>15</td>\n",
              "      <td>-0.002875</td>\n",
              "    </tr>\n",
              "    <tr>\n",
              "      <th>5</th>\n",
              "      <td>16</td>\n",
              "      <td>0.042272</td>\n",
              "    </tr>\n",
              "    <tr>\n",
              "      <th>6</th>\n",
              "      <td>17</td>\n",
              "      <td>0.070382</td>\n",
              "    </tr>\n",
              "    <tr>\n",
              "      <th>7</th>\n",
              "      <td>18</td>\n",
              "      <td>0.106431</td>\n",
              "    </tr>\n",
              "  </tbody>\n",
              "</table>\n",
              "</div>"
            ],
            "text/plain": [
              "   date  sentiment_score\n",
              "0    11         0.105363\n",
              "1    12         0.068682\n",
              "2    13         0.025952\n",
              "3    14         0.037947\n",
              "4    15        -0.002875\n",
              "5    16         0.042272\n",
              "6    17         0.070382\n",
              "7    18         0.106431"
            ]
          },
          "metadata": {},
          "execution_count": 73
        }
      ]
    },
    {
      "cell_type": "code",
      "metadata": {
        "colab": {
          "base_uri": "https://localhost:8080/",
          "height": 296
        },
        "id": "kq3YZ5bQ2Mxj",
        "outputId": "46630750-b969-4f29-cc6c-244fbd805ca4"
      },
      "source": [
        "sns.barplot(x=\"date\", y=\"sentiment_score\", color=\"c\", data=tmp_Twitter)"
      ],
      "execution_count": 74,
      "outputs": [
        {
          "output_type": "execute_result",
          "data": {
            "text/plain": [
              "<matplotlib.axes._subplots.AxesSubplot at 0x7fa3af372890>"
            ]
          },
          "metadata": {},
          "execution_count": 74
        },
        {
          "output_type": "display_data",
          "data": {
            "image/png": "[encoded data removed]",
            "text/plain": [
              "<Figure size 432x288 with 1 Axes>"
            ]
          },
          "metadata": {
            "needs_background": "light"
          }
        }
      ]
    },
    {
      "cell_type": "code",
      "metadata": {
        "id": "UVWud8rEx-6c",
        "colab": {
          "base_uri": "https://localhost:8080/",
          "height": 264
        },
        "outputId": "3e73a0d0-4cdd-4c22-9ce5-ff1ccc4d20a7"
      },
      "source": [
        "sentiment_Twitter_dict = {'positive': 0, 'negative': 0, 'neutral': 0}\n",
        "for sentiment in pd_Twitter[\"sentiment\"]:\n",
        "  if sentiment == \"positive\":\n",
        "      sentiment_Twitter_dict['positive'] += 1\n",
        "  elif sentiment == \"neutral\":\n",
        "      sentiment_Twitter_dict['neutral'] += 1\n",
        "  elif sentiment == \"negative\":\n",
        "      sentiment_Twitter_dict['negative'] += 1\n",
        "\n",
        "sentiment_Twitter = np.array([sentiment_Twitter_dict[\"positive\"], sentiment_Twitter_dict[\"neutral\"], sentiment_Twitter_dict[\"negative\"]])\n",
        "labels = [\"Positive\", \"Neutral\", \"Negative\"]\n",
        "colors = sns.color_palette('pastel')[0:5]\n",
        "\n",
        "plt.pie(sentiment_Twitter, labels=labels, colors=colors, shadow=True, autopct='%.0f%%')\n",
        "plt.title(\"Sentiment of tweets of Anteraja\")\n",
        "plt.show()"
      ],
      "execution_count": 75,
      "outputs": [
        {
          "output_type": "display_data",
          "data": {
            "image/png": "[encoded data removed]",
            "text/plain": [
              "<Figure size 432x288 with 1 Axes>"
            ]
          },
          "metadata": {}
        }
      ]
    },
    {
      "cell_type": "markdown",
      "metadata": {
        "id": "ui8HamP7EI0r"
      },
      "source": [
        "### **B. Google Play Sentiment Analysis**"
      ]
    },
    {
      "cell_type": "code",
      "metadata": {
        "id": "kvXWNDZ601nl"
      },
      "source": [
        "tmp_google_play = pd_google_play.groupby(pd_google_play['at'].dt.day).agg('mean')"
      ],
      "execution_count": 76,
      "outputs": []
    },
    {
      "cell_type": "code",
      "metadata": {
        "id": "oIcycFYm2j-F"
      },
      "source": [
        "tmp_google_play = tmp_google_play.reset_index()"
      ],
      "execution_count": 77,
      "outputs": []
    },
    {
      "cell_type": "code",
      "metadata": {
        "colab": {
          "base_uri": "https://localhost:8080/",
          "height": 833
        },
        "id": "LaBtcBt70yln",
        "outputId": "d813b01d-68d0-419d-e94a-45dcf0c71506"
      },
      "source": [
        "tmp_google_play"
      ],
      "execution_count": 78,
      "outputs": [
        {
          "output_type": "execute_result",
          "data": {
            "text/html": [
              "<div>\n",
              "<style scoped>\n",
              "    .dataframe tbody tr th:only-of-type {\n",
              "        vertical-align: middle;\n",
              "    }\n",
              "\n",
              "    .dataframe tbody tr th {\n",
              "        vertical-align: top;\n",
              "    }\n",
              "\n",
              "    .dataframe thead th {\n",
              "        text-align: right;\n",
              "    }\n",
              "</style>\n",
              "<table border=\"1\" class=\"dataframe\">\n",
              "  <thead>\n",
              "    <tr style=\"text-align: right;\">\n",
              "      <th></th>\n",
              "      <th>at</th>\n",
              "      <th>sentiment_score</th>\n",
              "    </tr>\n",
              "  </thead>\n",
              "  <tbody>\n",
              "    <tr>\n",
              "      <th>0</th>\n",
              "      <td>1</td>\n",
              "      <td>0.316667</td>\n",
              "    </tr>\n",
              "    <tr>\n",
              "      <th>1</th>\n",
              "      <td>2</td>\n",
              "      <td>0.040536</td>\n",
              "    </tr>\n",
              "    <tr>\n",
              "      <th>2</th>\n",
              "      <td>3</td>\n",
              "      <td>0.469333</td>\n",
              "    </tr>\n",
              "    <tr>\n",
              "      <th>3</th>\n",
              "      <td>4</td>\n",
              "      <td>0.096244</td>\n",
              "    </tr>\n",
              "    <tr>\n",
              "      <th>4</th>\n",
              "      <td>5</td>\n",
              "      <td>0.134722</td>\n",
              "    </tr>\n",
              "    <tr>\n",
              "      <th>5</th>\n",
              "      <td>11</td>\n",
              "      <td>0.073112</td>\n",
              "    </tr>\n",
              "    <tr>\n",
              "      <th>6</th>\n",
              "      <td>12</td>\n",
              "      <td>0.216342</td>\n",
              "    </tr>\n",
              "    <tr>\n",
              "      <th>7</th>\n",
              "      <td>13</td>\n",
              "      <td>0.091000</td>\n",
              "    </tr>\n",
              "    <tr>\n",
              "      <th>8</th>\n",
              "      <td>14</td>\n",
              "      <td>0.040044</td>\n",
              "    </tr>\n",
              "    <tr>\n",
              "      <th>9</th>\n",
              "      <td>15</td>\n",
              "      <td>0.010442</td>\n",
              "    </tr>\n",
              "    <tr>\n",
              "      <th>10</th>\n",
              "      <td>16</td>\n",
              "      <td>-0.045547</td>\n",
              "    </tr>\n",
              "    <tr>\n",
              "      <th>11</th>\n",
              "      <td>17</td>\n",
              "      <td>-0.058713</td>\n",
              "    </tr>\n",
              "    <tr>\n",
              "      <th>12</th>\n",
              "      <td>18</td>\n",
              "      <td>0.278262</td>\n",
              "    </tr>\n",
              "    <tr>\n",
              "      <th>13</th>\n",
              "      <td>19</td>\n",
              "      <td>0.006458</td>\n",
              "    </tr>\n",
              "    <tr>\n",
              "      <th>14</th>\n",
              "      <td>20</td>\n",
              "      <td>0.195857</td>\n",
              "    </tr>\n",
              "    <tr>\n",
              "      <th>15</th>\n",
              "      <td>21</td>\n",
              "      <td>0.100000</td>\n",
              "    </tr>\n",
              "    <tr>\n",
              "      <th>16</th>\n",
              "      <td>22</td>\n",
              "      <td>0.193217</td>\n",
              "    </tr>\n",
              "    <tr>\n",
              "      <th>17</th>\n",
              "      <td>23</td>\n",
              "      <td>0.290873</td>\n",
              "    </tr>\n",
              "    <tr>\n",
              "      <th>18</th>\n",
              "      <td>24</td>\n",
              "      <td>0.278000</td>\n",
              "    </tr>\n",
              "    <tr>\n",
              "      <th>19</th>\n",
              "      <td>25</td>\n",
              "      <td>0.166830</td>\n",
              "    </tr>\n",
              "    <tr>\n",
              "      <th>20</th>\n",
              "      <td>26</td>\n",
              "      <td>0.107292</td>\n",
              "    </tr>\n",
              "    <tr>\n",
              "      <th>21</th>\n",
              "      <td>27</td>\n",
              "      <td>0.313186</td>\n",
              "    </tr>\n",
              "    <tr>\n",
              "      <th>22</th>\n",
              "      <td>28</td>\n",
              "      <td>0.277917</td>\n",
              "    </tr>\n",
              "    <tr>\n",
              "      <th>23</th>\n",
              "      <td>29</td>\n",
              "      <td>0.121875</td>\n",
              "    </tr>\n",
              "    <tr>\n",
              "      <th>24</th>\n",
              "      <td>30</td>\n",
              "      <td>0.211128</td>\n",
              "    </tr>\n",
              "  </tbody>\n",
              "</table>\n",
              "</div>"
            ],
            "text/plain": [
              "    at  sentiment_score\n",
              "0    1         0.316667\n",
              "1    2         0.040536\n",
              "2    3         0.469333\n",
              "3    4         0.096244\n",
              "4    5         0.134722\n",
              "5   11         0.073112\n",
              "6   12         0.216342\n",
              "7   13         0.091000\n",
              "8   14         0.040044\n",
              "9   15         0.010442\n",
              "10  16        -0.045547\n",
              "11  17        -0.058713\n",
              "12  18         0.278262\n",
              "13  19         0.006458\n",
              "14  20         0.195857\n",
              "15  21         0.100000\n",
              "16  22         0.193217\n",
              "17  23         0.290873\n",
              "18  24         0.278000\n",
              "19  25         0.166830\n",
              "20  26         0.107292\n",
              "21  27         0.313186\n",
              "22  28         0.277917\n",
              "23  29         0.121875\n",
              "24  30         0.211128"
            ]
          },
          "metadata": {},
          "execution_count": 78
        }
      ]
    },
    {
      "cell_type": "code",
      "metadata": {
        "colab": {
          "base_uri": "https://localhost:8080/",
          "height": 296
        },
        "id": "82TioeQW2bRf",
        "outputId": "8ac52e51-db3c-4cb6-c45a-1dc8a70cb8a4"
      },
      "source": [
        "sns.barplot(x=\"at\", y=\"sentiment_score\", color=\"c\", data=tmp_google_play)"
      ],
      "execution_count": 79,
      "outputs": [
        {
          "output_type": "execute_result",
          "data": {
            "text/plain": [
              "<matplotlib.axes._subplots.AxesSubplot at 0x7fa3af3e78d0>"
            ]
          },
          "metadata": {},
          "execution_count": 79
        },
        {
          "output_type": "display_data",
          "data": {
            "image/png": "[encoded data removed]",
            "text/plain": [
              "<Figure size 432x288 with 1 Axes>"
            ]
          },
          "metadata": {
            "needs_background": "light"
          }
        }
      ]
    },
    {
      "cell_type": "code",
      "metadata": {
        "id": "mIHF-uHbzn0Y",
        "colab": {
          "base_uri": "https://localhost:8080/",
          "height": 264
        },
        "outputId": "64cc538e-3634-47ba-b672-4aff79937993"
      },
      "source": [
        "sentiment_google_play_dict = {'positive' : 0, 'negative' : 0, 'neutral': 0}\n",
        "for sentiment in pd_google_play[\"sentiment\"]:\n",
        "  if sentiment == \"positive\":\n",
        "      sentiment_google_play_dict['positive'] += 1\n",
        "  elif sentiment == \"neutral\":\n",
        "      sentiment_google_play_dict['neutral'] += 1\n",
        "  elif sentiment == \"negative\":\n",
        "      sentiment_google_play_dict['negative'] += 1\n",
        "\n",
        "sentiment_google_play = np.array([sentiment_google_play_dict[\"positive\"], sentiment_google_play_dict[\"neutral\"], sentiment_google_play_dict[\"negative\"]])\n",
        "labels = [\"Positive\", \"Neutral\", \"Negative\"]\n",
        "colors = sns.color_palette('pastel')[0:5]\n",
        "\n",
        "plt.pie(sentiment_google_play, labels=labels, colors=colors, shadow=True, autopct='%.0f%%')\n",
        "plt.title(\"Sentiment of review of Anteraja on Google Play\")\n",
        "plt.show() "
      ],
      "execution_count": 80,
      "outputs": [
        {
          "output_type": "display_data",
          "data": {
            "image/png": "[encoded data removed]",
            "text/plain": [
              "<Figure size 432x288 with 1 Axes>"
            ]
          },
          "metadata": {}
        }
      ]
    }
  ]
}